{
 "cells": [
  {
   "cell_type": "code",
   "execution_count": 22,
   "id": "31aab3cb-c993-4836-93c3-a30b28b0440a",
   "metadata": {},
   "outputs": [],
   "source": [
    "import datetime\n",
    "\n",
    "import numpy as np\n",
    "import pandas as pd\n",
    "import pandas_datareader as pdr  # IF NECESSARY, from terminal: pip install pandas_datareader\n",
    "from numpy.random import default_rng\n",
    "\n",
    "pd.set_option(\"display.max_rows\", 10)  # display option for pandas\n",
    "# more here: https://pandas.pydata.org/pandas-docs/stable/user_guide/options.html"
   ]
  },
  {
   "cell_type": "markdown",
   "id": "7d26a1a2-b679-4b1f-a9ea-d64c9db79269",
   "metadata": {},
   "source": [
    "## A quick hit of Numpy"
   ]
  },
  {
   "cell_type": "code",
   "execution_count": 23,
   "id": "708bd962-843e-408d-8d8d-0a6766bc7cdc",
   "metadata": {},
   "outputs": [
    {
     "name": "stdout",
     "output_type": "stream",
     "text": [
      "myray: [ 0.08420025 -2.79185541 -1.24030123  2.80206449  1.04876865]\n"
     ]
    }
   ],
   "source": [
    "# create a random vector \n",
    "# every run of this --> diff #s\n",
    "# see 3.2.2.2 in the textbook for why, \n",
    "# and how to prevent\n",
    "\n",
    "rg = default_rng()\n",
    "myray = rg.standard_normal(5)\n",
    "print(\"myray:\", myray) "
   ]
  },
  {
   "cell_type": "code",
   "execution_count": 24,
   "id": "7117b4f7-7c2a-4d91-b6d5-5016144da3cc",
   "metadata": {},
   "outputs": [
    {
     "data": {
      "text/plain": [
       "array([-2.79185541,  2.80206449])"
      ]
     },
     "execution_count": 24,
     "metadata": {},
     "output_type": "execute_result"
    }
   ],
   "source": [
    "# q1 - indexing, pick the odd elements\n",
    "myray[::2] # grabs every other, starting at 0\n",
    "myray[1::2] # grabs every other, starting at 1"
   ]
  },
  {
   "cell_type": "markdown",
   "id": "2deffcd5-8da2-45ba-9993-28ba5ae2326d",
   "metadata": {},
   "source": [
    "Booleans arrays: Asking a logic test on an array, returns the array, where each element has been tested against that logic and converted to the boolean answer."
   ]
  },
  {
   "cell_type": "code",
   "execution_count": 25,
   "id": "e62e18c6-8c13-43c4-a981-49d6153ee578",
   "metadata": {},
   "outputs": [
    {
     "data": {
      "text/plain": [
       "array([0.08420025, 2.80206449, 1.04876865])"
      ]
     },
     "execution_count": 25,
     "metadata": {},
     "output_type": "execute_result"
    }
   ],
   "source": [
    "# q2 - (a) boolean array + (b) \"masking\"\n",
    "\n",
    "# (a)\n",
    "myray > 0\n",
    "\n",
    "# (b)\n",
    "mask = myray > 0  # store that boolean as a \"mask\"\n",
    "myray[mask] # show the values for which the mask / filter is true"
   ]
  },
  {
   "cell_type": "markdown",
   "id": "ef0d2b1b-8ca9-4252-8221-7a6c0abb2547",
   "metadata": {},
   "source": [
    "What you just learned about masking and filtering can be done with dataframes!"
   ]
  },
  {
   "cell_type": "markdown",
   "id": "8e6bf829-8ba4-4cd3-84c1-8c13b33a04f2",
   "metadata": {},
   "source": [
    "## The main event - Pandas\n",
    "\n",
    "Vocab\n",
    "- series\n",
    "- index \n",
    "- dataframe\n",
    "- columns and names\n",
    "- rows and index \n",
    "- multiindex "
   ]
  },
  {
   "cell_type": "code",
   "execution_count": 28,
   "id": "f6515f43-5109-4a96-bee9-e65ec3541157",
   "metadata": {},
   "outputs": [],
   "source": [
    "start = datetime.datetime(2017, 1, 1) # you can specify start and end dates this way\n",
    "end = datetime.datetime(2021, 1, 27)\n",
    "macro_df = pdr.data.DataReader(['GDP','CPIAUCSL','UNRATE'], 'fred', start, end)"
   ]
  },
  {
   "cell_type": "code",
   "execution_count": 29,
   "id": "6c729373-a0ef-4e12-8987-4d8a2cfe836f",
   "metadata": {},
   "outputs": [
    {
     "data": {
      "text/html": [
       "<div>\n",
       "<style scoped>\n",
       "    .dataframe tbody tr th:only-of-type {\n",
       "        vertical-align: middle;\n",
       "    }\n",
       "\n",
       "    .dataframe tbody tr th {\n",
       "        vertical-align: top;\n",
       "    }\n",
       "\n",
       "    .dataframe thead th {\n",
       "        text-align: right;\n",
       "    }\n",
       "</style>\n",
       "<table border=\"1\" class=\"dataframe\">\n",
       "  <thead>\n",
       "    <tr style=\"text-align: right;\">\n",
       "      <th></th>\n",
       "      <th>GDP</th>\n",
       "      <th>CPIAUCSL</th>\n",
       "      <th>UNRATE</th>\n",
       "    </tr>\n",
       "    <tr>\n",
       "      <th>DATE</th>\n",
       "      <th></th>\n",
       "      <th></th>\n",
       "      <th></th>\n",
       "    </tr>\n",
       "  </thead>\n",
       "  <tbody>\n",
       "    <tr>\n",
       "      <th>2017-01-01</th>\n",
       "      <td>19280.084</td>\n",
       "      <td>243.618</td>\n",
       "      <td>4.7</td>\n",
       "    </tr>\n",
       "    <tr>\n",
       "      <th>2017-02-01</th>\n",
       "      <td>NaN</td>\n",
       "      <td>244.006</td>\n",
       "      <td>4.6</td>\n",
       "    </tr>\n",
       "    <tr>\n",
       "      <th>2017-03-01</th>\n",
       "      <td>NaN</td>\n",
       "      <td>243.892</td>\n",
       "      <td>4.4</td>\n",
       "    </tr>\n",
       "    <tr>\n",
       "      <th>2017-04-01</th>\n",
       "      <td>19438.643</td>\n",
       "      <td>244.193</td>\n",
       "      <td>4.4</td>\n",
       "    </tr>\n",
       "    <tr>\n",
       "      <th>2017-05-01</th>\n",
       "      <td>NaN</td>\n",
       "      <td>244.004</td>\n",
       "      <td>4.4</td>\n",
       "    </tr>\n",
       "    <tr>\n",
       "      <th>...</th>\n",
       "      <td>...</td>\n",
       "      <td>...</td>\n",
       "      <td>...</td>\n",
       "    </tr>\n",
       "    <tr>\n",
       "      <th>2020-09-01</th>\n",
       "      <td>NaN</td>\n",
       "      <td>260.029</td>\n",
       "      <td>7.8</td>\n",
       "    </tr>\n",
       "    <tr>\n",
       "      <th>2020-10-01</th>\n",
       "      <td>22024.502</td>\n",
       "      <td>260.286</td>\n",
       "      <td>6.8</td>\n",
       "    </tr>\n",
       "    <tr>\n",
       "      <th>2020-11-01</th>\n",
       "      <td>NaN</td>\n",
       "      <td>260.813</td>\n",
       "      <td>6.7</td>\n",
       "    </tr>\n",
       "    <tr>\n",
       "      <th>2020-12-01</th>\n",
       "      <td>NaN</td>\n",
       "      <td>262.035</td>\n",
       "      <td>6.7</td>\n",
       "    </tr>\n",
       "    <tr>\n",
       "      <th>2021-01-01</th>\n",
       "      <td>22600.185</td>\n",
       "      <td>262.650</td>\n",
       "      <td>6.4</td>\n",
       "    </tr>\n",
       "  </tbody>\n",
       "</table>\n",
       "<p>49 rows × 3 columns</p>\n",
       "</div>"
      ],
      "text/plain": [
       "                  GDP  CPIAUCSL  UNRATE\n",
       "DATE                                   \n",
       "2017-01-01  19280.084   243.618     4.7\n",
       "2017-02-01        NaN   244.006     4.6\n",
       "2017-03-01        NaN   243.892     4.4\n",
       "2017-04-01  19438.643   244.193     4.4\n",
       "2017-05-01        NaN   244.004     4.4\n",
       "...               ...       ...     ...\n",
       "2020-09-01        NaN   260.029     7.8\n",
       "2020-10-01  22024.502   260.286     6.8\n",
       "2020-11-01        NaN   260.813     6.7\n",
       "2020-12-01        NaN   262.035     6.7\n",
       "2021-01-01  22600.185   262.650     6.4\n",
       "\n",
       "[49 rows x 3 columns]"
      ]
     },
     "execution_count": 29,
     "metadata": {},
     "output_type": "execute_result"
    }
   ],
   "source": [
    "# preview the dataframe\n",
    "macro_df"
   ]
  },
  {
   "cell_type": "code",
   "execution_count": 30,
   "id": "6a0578ad-9869-4991-a79c-e1d6081600a8",
   "metadata": {},
   "outputs": [
    {
     "data": {
      "text/plain": [
       "(49, 3)"
      ]
     },
     "execution_count": 30,
     "metadata": {},
     "output_type": "execute_result"
    }
   ],
   "source": [
    "# shape\n",
    "macro_df.shape  # object.xxx() --function\n",
    "                # object.xxx -- attribute"
   ]
  },
  {
   "cell_type": "code",
   "execution_count": 33,
   "id": "c6964b7b-5a3d-45d4-981f-28ff45f518a6",
   "metadata": {},
   "outputs": [
    {
     "name": "stdout",
     "output_type": "stream",
     "text": [
      "<class 'pandas.core.frame.DataFrame'>\n",
      "DatetimeIndex: 49 entries, 2017-01-01 to 2021-01-01\n",
      "Freq: MS\n",
      "Data columns (total 3 columns):\n",
      " #   Column    Non-Null Count  Dtype  \n",
      "---  ------    --------------  -----  \n",
      " 0   GDP       17 non-null     float64\n",
      " 1   CPIAUCSL  49 non-null     float64\n",
      " 2   UNRATE    49 non-null     float64\n",
      "dtypes: float64(3)\n",
      "memory usage: 1.5 KB\n"
     ]
    }
   ],
   "source": [
    "# variable types\n",
    "macro_df.info()"
   ]
  },
  {
   "cell_type": "code",
   "execution_count": 37,
   "id": "c2a16499-5810-4921-bbc8-f1d96f383a9e",
   "metadata": {},
   "outputs": [
    {
     "data": {
      "text/html": [
       "<div>\n",
       "<style scoped>\n",
       "    .dataframe tbody tr th:only-of-type {\n",
       "        vertical-align: middle;\n",
       "    }\n",
       "\n",
       "    .dataframe tbody tr th {\n",
       "        vertical-align: top;\n",
       "    }\n",
       "\n",
       "    .dataframe thead th {\n",
       "        text-align: right;\n",
       "    }\n",
       "</style>\n",
       "<table border=\"1\" class=\"dataframe\">\n",
       "  <thead>\n",
       "    <tr style=\"text-align: right;\">\n",
       "      <th></th>\n",
       "      <th>GDP</th>\n",
       "      <th>CPIAUCSL</th>\n",
       "      <th>UNRATE</th>\n",
       "    </tr>\n",
       "    <tr>\n",
       "      <th>DATE</th>\n",
       "      <th></th>\n",
       "      <th></th>\n",
       "      <th></th>\n",
       "    </tr>\n",
       "  </thead>\n",
       "  <tbody>\n",
       "    <tr>\n",
       "      <th>2018-09-01</th>\n",
       "      <td>NaN</td>\n",
       "      <td>252.182</td>\n",
       "      <td>3.7</td>\n",
       "    </tr>\n",
       "    <tr>\n",
       "      <th>2018-11-01</th>\n",
       "      <td>NaN</td>\n",
       "      <td>252.594</td>\n",
       "      <td>3.8</td>\n",
       "    </tr>\n",
       "    <tr>\n",
       "      <th>2019-01-01</th>\n",
       "      <td>21104.133</td>\n",
       "      <td>252.718</td>\n",
       "      <td>4.0</td>\n",
       "    </tr>\n",
       "    <tr>\n",
       "      <th>2019-03-01</th>\n",
       "      <td>NaN</td>\n",
       "      <td>254.202</td>\n",
       "      <td>3.8</td>\n",
       "    </tr>\n",
       "    <tr>\n",
       "      <th>2019-05-01</th>\n",
       "      <td>NaN</td>\n",
       "      <td>255.290</td>\n",
       "      <td>3.6</td>\n",
       "    </tr>\n",
       "  </tbody>\n",
       "</table>\n",
       "</div>"
      ],
      "text/plain": [
       "                  GDP  CPIAUCSL  UNRATE\n",
       "DATE                                   \n",
       "2018-09-01        NaN   252.182     3.7\n",
       "2018-11-01        NaN   252.594     3.8\n",
       "2019-01-01  21104.133   252.718     4.0\n",
       "2019-03-01        NaN   254.202     3.8\n",
       "2019-05-01        NaN   255.290     3.6"
      ]
     },
     "execution_count": 37,
     "metadata": {},
     "output_type": "execute_result"
    }
   ],
   "source": [
    "# look at top X rows\n",
    "macro_df.head(10) # bby default its 5\n",
    "macro_df[:5] # treat like a list( which rows are up to you)\n",
    "macro_df[20:30:2] # list slicing works here too!\n",
    "macro_df.iloc[10:20:-1] # [rows columns] which rows and columns to look at"
   ]
  },
  {
   "cell_type": "raw",
   "id": "a3725f45-9711-42ca-b457-9eed480250e5",
   "metadata": {},
   "source": []
  },
  {
   "cell_type": "markdown",
   "id": "d7ad283c-3a2f-41f6-a8fc-429c06fcf28b",
   "metadata": {},
   "source": [
    "# look at bottom X rows\n",
    "macro_df.tail(8) # by default, 5"
   ]
  },
  {
   "cell_type": "code",
   "execution_count": 38,
   "id": "4346813f-c4f8-4633-831f-12d8cff896dc",
   "metadata": {},
   "outputs": [
    {
     "data": {
      "text/plain": [
       "DATE\n",
       "2017-01-01    19280.084\n",
       "2017-02-01          NaN\n",
       "2017-03-01          NaN\n",
       "2017-04-01    19438.643\n",
       "2017-05-01          NaN\n",
       "                ...    \n",
       "2020-09-01          NaN\n",
       "2020-10-01    22024.502\n",
       "2020-11-01          NaN\n",
       "2020-12-01          NaN\n",
       "2021-01-01    22600.185\n",
       "Freq: MS, Name: GDP, Length: 49, dtype: float64"
      ]
     },
     "execution_count": 38,
     "metadata": {},
     "output_type": "execute_result"
    }
   ],
   "source": [
    "# grab one variable\n",
    "macro_df['GDP']"
   ]
  },
  {
   "cell_type": "code",
   "execution_count": 39,
   "id": "8a0310ef-56be-4243-8457-dd900b324f65",
   "metadata": {},
   "outputs": [
    {
     "ename": "KeyError",
     "evalue": "('GDP', 'UNRATE')",
     "output_type": "error",
     "traceback": [
      "\u001b[0;31m---------------------------------------------------------------------------\u001b[0m",
      "\u001b[0;31mKeyError\u001b[0m                                  Traceback (most recent call last)",
      "File \u001b[0;32m~/anaconda3/lib/python3.11/site-packages/pandas/core/indexes/base.py:3653\u001b[0m, in \u001b[0;36mIndex.get_loc\u001b[0;34m(self, key)\u001b[0m\n\u001b[1;32m   3652\u001b[0m \u001b[38;5;28;01mtry\u001b[39;00m:\n\u001b[0;32m-> 3653\u001b[0m     \u001b[38;5;28;01mreturn\u001b[39;00m \u001b[38;5;28mself\u001b[39m\u001b[38;5;241m.\u001b[39m_engine\u001b[38;5;241m.\u001b[39mget_loc(casted_key)\n\u001b[1;32m   3654\u001b[0m \u001b[38;5;28;01mexcept\u001b[39;00m \u001b[38;5;167;01mKeyError\u001b[39;00m \u001b[38;5;28;01mas\u001b[39;00m err:\n",
      "File \u001b[0;32m~/anaconda3/lib/python3.11/site-packages/pandas/_libs/index.pyx:147\u001b[0m, in \u001b[0;36mpandas._libs.index.IndexEngine.get_loc\u001b[0;34m()\u001b[0m\n",
      "File \u001b[0;32m~/anaconda3/lib/python3.11/site-packages/pandas/_libs/index.pyx:176\u001b[0m, in \u001b[0;36mpandas._libs.index.IndexEngine.get_loc\u001b[0;34m()\u001b[0m\n",
      "File \u001b[0;32mpandas/_libs/hashtable_class_helper.pxi:7080\u001b[0m, in \u001b[0;36mpandas._libs.hashtable.PyObjectHashTable.get_item\u001b[0;34m()\u001b[0m\n",
      "File \u001b[0;32mpandas/_libs/hashtable_class_helper.pxi:7088\u001b[0m, in \u001b[0;36mpandas._libs.hashtable.PyObjectHashTable.get_item\u001b[0;34m()\u001b[0m\n",
      "\u001b[0;31mKeyError\u001b[0m: ('GDP', 'UNRATE')",
      "\nThe above exception was the direct cause of the following exception:\n",
      "\u001b[0;31mKeyError\u001b[0m                                  Traceback (most recent call last)",
      "Cell \u001b[0;32mIn[39], line 2\u001b[0m\n\u001b[1;32m      1\u001b[0m \u001b[38;5;66;03m# grab two (or more) variables\u001b[39;00m\n\u001b[0;32m----> 2\u001b[0m macro_df[\u001b[38;5;124m'\u001b[39m\u001b[38;5;124mGDP\u001b[39m\u001b[38;5;124m'\u001b[39m,\u001b[38;5;124m'\u001b[39m\u001b[38;5;124mUNRATE\u001b[39m\u001b[38;5;124m'\u001b[39m]\n",
      "File \u001b[0;32m~/anaconda3/lib/python3.11/site-packages/pandas/core/frame.py:3761\u001b[0m, in \u001b[0;36mDataFrame.__getitem__\u001b[0;34m(self, key)\u001b[0m\n\u001b[1;32m   3759\u001b[0m \u001b[38;5;28;01mif\u001b[39;00m \u001b[38;5;28mself\u001b[39m\u001b[38;5;241m.\u001b[39mcolumns\u001b[38;5;241m.\u001b[39mnlevels \u001b[38;5;241m>\u001b[39m \u001b[38;5;241m1\u001b[39m:\n\u001b[1;32m   3760\u001b[0m     \u001b[38;5;28;01mreturn\u001b[39;00m \u001b[38;5;28mself\u001b[39m\u001b[38;5;241m.\u001b[39m_getitem_multilevel(key)\n\u001b[0;32m-> 3761\u001b[0m indexer \u001b[38;5;241m=\u001b[39m \u001b[38;5;28mself\u001b[39m\u001b[38;5;241m.\u001b[39mcolumns\u001b[38;5;241m.\u001b[39mget_loc(key)\n\u001b[1;32m   3762\u001b[0m \u001b[38;5;28;01mif\u001b[39;00m is_integer(indexer):\n\u001b[1;32m   3763\u001b[0m     indexer \u001b[38;5;241m=\u001b[39m [indexer]\n",
      "File \u001b[0;32m~/anaconda3/lib/python3.11/site-packages/pandas/core/indexes/base.py:3655\u001b[0m, in \u001b[0;36mIndex.get_loc\u001b[0;34m(self, key)\u001b[0m\n\u001b[1;32m   3653\u001b[0m     \u001b[38;5;28;01mreturn\u001b[39;00m \u001b[38;5;28mself\u001b[39m\u001b[38;5;241m.\u001b[39m_engine\u001b[38;5;241m.\u001b[39mget_loc(casted_key)\n\u001b[1;32m   3654\u001b[0m \u001b[38;5;28;01mexcept\u001b[39;00m \u001b[38;5;167;01mKeyError\u001b[39;00m \u001b[38;5;28;01mas\u001b[39;00m err:\n\u001b[0;32m-> 3655\u001b[0m     \u001b[38;5;28;01mraise\u001b[39;00m \u001b[38;5;167;01mKeyError\u001b[39;00m(key) \u001b[38;5;28;01mfrom\u001b[39;00m \u001b[38;5;21;01merr\u001b[39;00m\n\u001b[1;32m   3656\u001b[0m \u001b[38;5;28;01mexcept\u001b[39;00m \u001b[38;5;167;01mTypeError\u001b[39;00m:\n\u001b[1;32m   3657\u001b[0m     \u001b[38;5;66;03m# If we have a listlike key, _check_indexing_error will raise\u001b[39;00m\n\u001b[1;32m   3658\u001b[0m     \u001b[38;5;66;03m#  InvalidIndexError. Otherwise we fall through and re-raise\u001b[39;00m\n\u001b[1;32m   3659\u001b[0m     \u001b[38;5;66;03m#  the TypeError.\u001b[39;00m\n\u001b[1;32m   3660\u001b[0m     \u001b[38;5;28mself\u001b[39m\u001b[38;5;241m.\u001b[39m_check_indexing_error(key)\n",
      "\u001b[0;31mKeyError\u001b[0m: ('GDP', 'UNRATE')"
     ]
    }
   ],
   "source": [
    "# grab two (or more) variables\n",
    "macro_df['GDP','UNRATE'] #put a list of variable names inside"
   ]
  },
  {
   "cell_type": "code",
   "execution_count": 40,
   "id": "004d9ef8-746f-4604-8a53-f1f671593489",
   "metadata": {},
   "outputs": [
    {
     "data": {
      "text/plain": [
       "Index(['GDP', 'CPIAUCSL', 'UNRATE'], dtype='object')"
      ]
     },
     "execution_count": 40,
     "metadata": {},
     "output_type": "execute_result"
    }
   ],
   "source": [
    "# see column names\n",
    "macro_df.columns "
   ]
  },
  {
   "cell_type": "code",
   "execution_count": 42,
   "id": "c1cc6e3c-a4e6-4fc9-90cd-16ad1f335daa",
   "metadata": {},
   "outputs": [],
   "source": [
    "# change column names\n",
    "# macro_df.rename(columns = {...})\n",
    "# macro_df.columns = ['var1','var2','var3'] # rename all variables"
   ]
  },
  {
   "cell_type": "code",
   "execution_count": 15,
   "id": "686b664f-2e4b-48af-8793-1074f20beaf4",
   "metadata": {},
   "outputs": [],
   "source": [
    "# see index\n"
   ]
  },
  {
   "cell_type": "code",
   "execution_count": 44,
   "id": "df9dd526-aa85-451b-afe7-ae8e914d05fa",
   "metadata": {},
   "outputs": [
    {
     "data": {
      "text/html": [
       "<div>\n",
       "<style scoped>\n",
       "    .dataframe tbody tr th:only-of-type {\n",
       "        vertical-align: middle;\n",
       "    }\n",
       "\n",
       "    .dataframe tbody tr th {\n",
       "        vertical-align: top;\n",
       "    }\n",
       "\n",
       "    .dataframe thead th {\n",
       "        text-align: right;\n",
       "    }\n",
       "</style>\n",
       "<table border=\"1\" class=\"dataframe\">\n",
       "  <thead>\n",
       "    <tr style=\"text-align: right;\">\n",
       "      <th></th>\n",
       "      <th>DATE</th>\n",
       "      <th>GDP</th>\n",
       "      <th>CPIAUCSL</th>\n",
       "      <th>UNRATE</th>\n",
       "    </tr>\n",
       "  </thead>\n",
       "  <tbody>\n",
       "    <tr>\n",
       "      <th>0</th>\n",
       "      <td>2017-01-01</td>\n",
       "      <td>19280.084</td>\n",
       "      <td>243.618</td>\n",
       "      <td>4.7</td>\n",
       "    </tr>\n",
       "    <tr>\n",
       "      <th>1</th>\n",
       "      <td>2017-02-01</td>\n",
       "      <td>NaN</td>\n",
       "      <td>244.006</td>\n",
       "      <td>4.6</td>\n",
       "    </tr>\n",
       "    <tr>\n",
       "      <th>2</th>\n",
       "      <td>2017-03-01</td>\n",
       "      <td>NaN</td>\n",
       "      <td>243.892</td>\n",
       "      <td>4.4</td>\n",
       "    </tr>\n",
       "    <tr>\n",
       "      <th>3</th>\n",
       "      <td>2017-04-01</td>\n",
       "      <td>19438.643</td>\n",
       "      <td>244.193</td>\n",
       "      <td>4.4</td>\n",
       "    </tr>\n",
       "    <tr>\n",
       "      <th>4</th>\n",
       "      <td>2017-05-01</td>\n",
       "      <td>NaN</td>\n",
       "      <td>244.004</td>\n",
       "      <td>4.4</td>\n",
       "    </tr>\n",
       "    <tr>\n",
       "      <th>...</th>\n",
       "      <td>...</td>\n",
       "      <td>...</td>\n",
       "      <td>...</td>\n",
       "      <td>...</td>\n",
       "    </tr>\n",
       "    <tr>\n",
       "      <th>44</th>\n",
       "      <td>2020-09-01</td>\n",
       "      <td>NaN</td>\n",
       "      <td>260.029</td>\n",
       "      <td>7.8</td>\n",
       "    </tr>\n",
       "    <tr>\n",
       "      <th>45</th>\n",
       "      <td>2020-10-01</td>\n",
       "      <td>22024.502</td>\n",
       "      <td>260.286</td>\n",
       "      <td>6.8</td>\n",
       "    </tr>\n",
       "    <tr>\n",
       "      <th>46</th>\n",
       "      <td>2020-11-01</td>\n",
       "      <td>NaN</td>\n",
       "      <td>260.813</td>\n",
       "      <td>6.7</td>\n",
       "    </tr>\n",
       "    <tr>\n",
       "      <th>47</th>\n",
       "      <td>2020-12-01</td>\n",
       "      <td>NaN</td>\n",
       "      <td>262.035</td>\n",
       "      <td>6.7</td>\n",
       "    </tr>\n",
       "    <tr>\n",
       "      <th>48</th>\n",
       "      <td>2021-01-01</td>\n",
       "      <td>22600.185</td>\n",
       "      <td>262.650</td>\n",
       "      <td>6.4</td>\n",
       "    </tr>\n",
       "  </tbody>\n",
       "</table>\n",
       "<p>49 rows × 4 columns</p>\n",
       "</div>"
      ],
      "text/plain": [
       "         DATE        GDP  CPIAUCSL  UNRATE\n",
       "0  2017-01-01  19280.084   243.618     4.7\n",
       "1  2017-02-01        NaN   244.006     4.6\n",
       "2  2017-03-01        NaN   243.892     4.4\n",
       "3  2017-04-01  19438.643   244.193     4.4\n",
       "4  2017-05-01        NaN   244.004     4.4\n",
       "..        ...        ...       ...     ...\n",
       "44 2020-09-01        NaN   260.029     7.8\n",
       "45 2020-10-01  22024.502   260.286     6.8\n",
       "46 2020-11-01        NaN   260.813     6.7\n",
       "47 2020-12-01        NaN   262.035     6.7\n",
       "48 2021-01-01  22600.185   262.650     6.4\n",
       "\n",
       "[49 rows x 4 columns]"
      ]
     },
     "execution_count": 44,
     "metadata": {},
     "output_type": "execute_result"
    }
   ],
   "source": [
    "# reset_index() and set_index()\n",
    "macro_df.reset_index() # turns index into variable\n",
    "\n",
    "new_df = macro_df.reset_index()"
   ]
  },
  {
   "cell_type": "code",
   "execution_count": 45,
   "id": "13d785d8-9e41-4ec4-abbe-e7cca94272d1",
   "metadata": {},
   "outputs": [],
   "source": [
    "# grab some rows (by position)\n",
    "\n",
    "did above - iloc(), or just df[]"
   ]
  },
  {
   "cell_type": "code",
   "execution_count": 47,
   "id": "9b0c52b0-535d-4411-bb3e-fd65117e79a8",
   "metadata": {},
   "outputs": [],
   "source": [
    "# grab some rows (by value)\n",
    "macro_df['UNRATE'] > 6 # compare 1 variable to 6\n",
    "macro_df > 6 # compare all to 6"
   ]
  },
  {
   "cell_type": "code",
   "execution_count": 56,
   "id": "78146ae9-7ac4-43a2-9734-035ba008a572",
   "metadata": {},
   "outputs": [
    {
     "data": {
      "text/html": [
       "<div>\n",
       "<style scoped>\n",
       "    .dataframe tbody tr th:only-of-type {\n",
       "        vertical-align: middle;\n",
       "    }\n",
       "\n",
       "    .dataframe tbody tr th {\n",
       "        vertical-align: top;\n",
       "    }\n",
       "\n",
       "    .dataframe thead th {\n",
       "        text-align: right;\n",
       "    }\n",
       "</style>\n",
       "<table border=\"1\" class=\"dataframe\">\n",
       "  <thead>\n",
       "    <tr style=\"text-align: right;\">\n",
       "      <th></th>\n",
       "      <th>GDP</th>\n",
       "      <th>CPIAUCSL</th>\n",
       "      <th>UNRATE</th>\n",
       "      <th>high</th>\n",
       "      <th>low</th>\n",
       "    </tr>\n",
       "    <tr>\n",
       "      <th>DATE</th>\n",
       "      <th></th>\n",
       "      <th></th>\n",
       "      <th></th>\n",
       "      <th></th>\n",
       "      <th></th>\n",
       "    </tr>\n",
       "  </thead>\n",
       "  <tbody>\n",
       "    <tr>\n",
       "      <th>2017-01-01</th>\n",
       "      <td>19280.084</td>\n",
       "      <td>243.618</td>\n",
       "      <td>4.7</td>\n",
       "      <td>False</td>\n",
       "      <td>False</td>\n",
       "    </tr>\n",
       "    <tr>\n",
       "      <th>2017-02-01</th>\n",
       "      <td>NaN</td>\n",
       "      <td>244.006</td>\n",
       "      <td>4.6</td>\n",
       "      <td>False</td>\n",
       "      <td>False</td>\n",
       "    </tr>\n",
       "    <tr>\n",
       "      <th>2017-03-01</th>\n",
       "      <td>NaN</td>\n",
       "      <td>243.892</td>\n",
       "      <td>4.4</td>\n",
       "      <td>False</td>\n",
       "      <td>False</td>\n",
       "    </tr>\n",
       "    <tr>\n",
       "      <th>2017-04-01</th>\n",
       "      <td>19438.643</td>\n",
       "      <td>244.193</td>\n",
       "      <td>4.4</td>\n",
       "      <td>False</td>\n",
       "      <td>False</td>\n",
       "    </tr>\n",
       "    <tr>\n",
       "      <th>2017-05-01</th>\n",
       "      <td>NaN</td>\n",
       "      <td>244.004</td>\n",
       "      <td>4.4</td>\n",
       "      <td>False</td>\n",
       "      <td>False</td>\n",
       "    </tr>\n",
       "    <tr>\n",
       "      <th>...</th>\n",
       "      <td>...</td>\n",
       "      <td>...</td>\n",
       "      <td>...</td>\n",
       "      <td>...</td>\n",
       "      <td>...</td>\n",
       "    </tr>\n",
       "    <tr>\n",
       "      <th>2020-09-01</th>\n",
       "      <td>NaN</td>\n",
       "      <td>260.029</td>\n",
       "      <td>7.8</td>\n",
       "      <td>True</td>\n",
       "      <td>False</td>\n",
       "    </tr>\n",
       "    <tr>\n",
       "      <th>2020-10-01</th>\n",
       "      <td>22024.502</td>\n",
       "      <td>260.286</td>\n",
       "      <td>6.8</td>\n",
       "      <td>True</td>\n",
       "      <td>False</td>\n",
       "    </tr>\n",
       "    <tr>\n",
       "      <th>2020-11-01</th>\n",
       "      <td>NaN</td>\n",
       "      <td>260.813</td>\n",
       "      <td>6.7</td>\n",
       "      <td>True</td>\n",
       "      <td>False</td>\n",
       "    </tr>\n",
       "    <tr>\n",
       "      <th>2020-12-01</th>\n",
       "      <td>NaN</td>\n",
       "      <td>262.035</td>\n",
       "      <td>6.7</td>\n",
       "      <td>True</td>\n",
       "      <td>False</td>\n",
       "    </tr>\n",
       "    <tr>\n",
       "      <th>2021-01-01</th>\n",
       "      <td>22600.185</td>\n",
       "      <td>262.650</td>\n",
       "      <td>6.4</td>\n",
       "      <td>True</td>\n",
       "      <td>False</td>\n",
       "    </tr>\n",
       "  </tbody>\n",
       "</table>\n",
       "<p>49 rows × 5 columns</p>\n",
       "</div>"
      ],
      "text/plain": [
       "                  GDP  CPIAUCSL  UNRATE   high    low\n",
       "DATE                                                 \n",
       "2017-01-01  19280.084   243.618     4.7  False  False\n",
       "2017-02-01        NaN   244.006     4.6  False  False\n",
       "2017-03-01        NaN   243.892     4.4  False  False\n",
       "2017-04-01  19438.643   244.193     4.4  False  False\n",
       "2017-05-01        NaN   244.004     4.4  False  False\n",
       "...               ...       ...     ...    ...    ...\n",
       "2020-09-01        NaN   260.029     7.8   True  False\n",
       "2020-10-01  22024.502   260.286     6.8   True  False\n",
       "2020-11-01        NaN   260.813     6.7   True  False\n",
       "2020-12-01        NaN   262.035     6.7   True  False\n",
       "2021-01-01  22600.185   262.650     6.4   True  False\n",
       "\n",
       "[49 rows x 5 columns]"
      ]
     },
     "execution_count": 56,
     "metadata": {},
     "output_type": "execute_result"
    }
   ],
   "source": [
    "# create a variable\n",
    "# (2 ways)\n",
    "\n",
    "# df['newvarname'] = ...\n",
    "macro_df['high'] = macro_df['UNRATE'] > 6\n",
    "\n",
    "macro_df.assign(low = macro_df['UNRATE'] < 3) \n",
    "macro_df # it didn't create the \"low\" variable. To permanently save it, add \"df = \" to it\n",
    "\n",
    "# revise:\n",
    "macro_df = macro_df.assign(low = macro_df['UNRATE'] < 3) \n",
    "macro_df"
   ]
  },
  {
   "cell_type": "markdown",
   "id": "8971d324-a0b9-4afe-9b8b-db12f2682c5b",
   "metadata": {},
   "source": [
    "## EDA\n",
    "\n",
    "Stop here. Back to the lecture. \n",
    "\n",
    "### Part 1\n",
    "\n",
    "Q0: Do each of the [EDA golden rules for initial data exploration](https://ledatascifi.github.io/ledatascifi-2024/content/03/02e_eda_golden.html) and write down your observations.\n",
    "- **Important: What is the \"key\" or \"unit level\" that observations in this database describes?** \n",
    "    - This is defined in 3.2.5 and discussed in [3.2.2.2 via example](https://ledatascifi.github.io/ledatascifi-2024/content/03/02b_pandasVocab.html#the-shape-of-data)\n",
    "    - The \"key\" levels in databases we will look at are often increments of time in the data, the type of entity describe (e.g. firm, person, state, country, industry), and combinations of entity and time. \n",
    "    - E.g. \"firm\" level, \"firm-year\" level"
   ]
  },
  {
   "cell_type": "code",
   "execution_count": null,
   "id": "f797797c-ed10-49fd-b7cd-24c0f09f3fbb",
   "metadata": {},
   "outputs": [],
   "source": []
  },
  {
   "cell_type": "markdown",
   "id": "0b7d8f15-5efe-4143-88de-60412bdf7099",
   "metadata": {},
   "source": [
    "Q1: What is the second series above?"
   ]
  },
  {
   "cell_type": "markdown",
   "id": "50077f53-9a68-4c7f-8e22-f4677c39ca8e",
   "metadata": {},
   "source": []
  },
  {
   "cell_type": "markdown",
   "id": "c5111809-8bda-4db2-bdb3-2c967754af7b",
   "metadata": {},
   "source": [
    "Q2: What is the frequency of the series?"
   ]
  },
  {
   "cell_type": "markdown",
   "id": "efa464f9-3de5-4bc8-80b6-881a4091e79e",
   "metadata": {},
   "source": []
  },
  {
   "cell_type": "markdown",
   "id": "45e5ce05-a65d-4bd8-9c10-dd0fb6bdbe44",
   "metadata": {},
   "source": [
    "Q3: What is the average ANNUAL GDP, based on the data?"
   ]
  },
  {
   "cell_type": "code",
   "execution_count": null,
   "id": "ae0c5b8d-a450-4e15-a85a-f2b177e73fae",
   "metadata": {},
   "outputs": [],
   "source": []
  },
  {
   "cell_type": "markdown",
   "id": "e40d09b3-5ef0-42a3-b07b-1a9bd4a46665",
   "metadata": {},
   "source": [
    "## Part 2\n",
    "\n",
    "Q4: Download the annual *real* gdp from 1960 to 2018 from FRED and compute the average annual percent change"
   ]
  },
  {
   "cell_type": "markdown",
   "id": "fa27fe66-0086-427b-858a-1da0ef225924",
   "metadata": {},
   "source": [
    "Q5: Compute the average gdp percent change within *each decade*\n"
   ]
  },
  {
   "cell_type": "markdown",
   "id": "58abde0a-757b-4b4c-a1bb-92bff3753dcd",
   "metadata": {},
   "source": [
    "## Part 3\n",
    "\n",
    "First, I'll load January data on unemployment, the Case-Shiller housing index, and median household income in three states (CA/MI/PA). "
   ]
  },
  {
   "cell_type": "code",
   "execution_count": 20,
   "id": "3195ec45-cd2b-49eb-a268-da7e5a9321ed",
   "metadata": {},
   "outputs": [
    {
     "name": "stdout",
     "output_type": "stream",
     "text": [
      "\n",
      "\n",
      " DATA BEFORE FORMATTING: \n",
      "\n",
      "\n",
      "      CAUR  MIUR  PAUR      LXXRSA      DEXRSA      WDXRSA  MEHOINUSCAA672N  \\\n",
      "DATE                                                                          \n",
      "1990   5.2   7.7   5.2  100.471193         NaN   93.362855          68370.0   \n",
      "1991   7.1   8.8   6.5   95.569015   58.420806   89.706871          66720.0   \n",
      "1992   8.6   9.5   7.4   92.786926   59.748947   88.573807          67460.0   \n",
      "1993   9.8   7.6   7.2   85.246295   61.564205   89.065118          64260.0   \n",
      "1994   9.3   7.2   6.7   77.395052   64.526663   88.988467          65210.0   \n",
      "...    ...   ...   ...         ...         ...         ...              ...   \n",
      "2005   5.8   7.2   5.2  221.471358  123.264834  210.799937          74610.0   \n",
      "2006   5.0   6.8   4.8  268.208765  126.872706  250.272528          77490.0   \n",
      "2007   4.9   7.0   4.4  270.804802  118.163914  241.411122          76120.0   \n",
      "2008   5.9   7.2   4.8  226.111808  100.378525  215.656562          75120.0   \n",
      "2009   9.9  10.9   7.0  167.831143   77.690652  174.183886          74260.0   \n",
      "\n",
      "      MEHOINUSMIA672N  MEHOINUSPAA672N  \n",
      "DATE                                    \n",
      "1990          61490.0          59570.0  \n",
      "1991          63650.0          60180.0  \n",
      "1992          62370.0          57760.0  \n",
      "1993          61600.0          58460.0  \n",
      "1994          65120.0          59190.0  \n",
      "...               ...              ...  \n",
      "2005          66210.0          66740.0  \n",
      "2006          68150.0          67910.0  \n",
      "2007          67430.0          66160.0  \n",
      "2008          65600.0          67720.0  \n",
      "2009          60840.0          63720.0  \n",
      "\n",
      "[20 rows x 9 columns]\n",
      "\n",
      "\n",
      " DATA AFTER FORMATTING: \n",
      "\n",
      "\n",
      "     Unemployment               HouseIdx                         MedIncome  \\\n",
      "               CA    MI   PA          CA          MI          PA        CA   \n",
      "DATE                                                                         \n",
      "1990          5.2   7.7  5.2  100.471193         NaN   93.362855   68370.0   \n",
      "1991          7.1   8.8  6.5   95.569015   58.420806   89.706871   66720.0   \n",
      "1992          8.6   9.5  7.4   92.786926   59.748947   88.573807   67460.0   \n",
      "1993          9.8   7.6  7.2   85.246295   61.564205   89.065118   64260.0   \n",
      "1994          9.3   7.2  6.7   77.395052   64.526663   88.988467   65210.0   \n",
      "...           ...   ...  ...         ...         ...         ...       ...   \n",
      "2005          5.8   7.2  5.2  221.471358  123.264834  210.799937   74610.0   \n",
      "2006          5.0   6.8  4.8  268.208765  126.872706  250.272528   77490.0   \n",
      "2007          4.9   7.0  4.4  270.804802  118.163914  241.411122   76120.0   \n",
      "2008          5.9   7.2  4.8  226.111808  100.378525  215.656562   75120.0   \n",
      "2009          9.9  10.9  7.0  167.831143   77.690652  174.183886   74260.0   \n",
      "\n",
      "                        \n",
      "           MI       PA  \n",
      "DATE                    \n",
      "1990  61490.0  59570.0  \n",
      "1991  63650.0  60180.0  \n",
      "1992  62370.0  57760.0  \n",
      "1993  61600.0  58460.0  \n",
      "1994  65120.0  59190.0  \n",
      "...       ...      ...  \n",
      "2005  66210.0  66740.0  \n",
      "2006  68150.0  67910.0  \n",
      "2007  67430.0  66160.0  \n",
      "2008  65600.0  67720.0  \n",
      "2009  60840.0  63720.0  \n",
      "\n",
      "[20 rows x 9 columns]\n"
     ]
    }
   ],
   "source": [
    "# LOAD DATA AND CONVERT TO ANNUAL\n",
    "\n",
    "start = 1990 # pandas datareader can infer these are years\n",
    "end = 2018\n",
    "macro_data = pdr.data.DataReader(['CAUR','MIUR','PAUR', # unemployment \n",
    "                                  'LXXRSA','DEXRSA','WDXRSA', # case shiller index in LA, Detroit, DC (no PA  available!)\n",
    "                                  'MEHOINUSCAA672N','MEHOINUSMIA672N','MEHOINUSPAA672N'], #  \n",
    "                                 'fred', start, end)\n",
    "macro_data = macro_data.resample('Y').first() # get's the first observation for each variable in a given year\n",
    "\n",
    "# CLEAN UP THE FORMATING SOMEWHAT\n",
    "\n",
    "macro_data.index = macro_data.index.year\n",
    "print(\"\\n\\n DATA BEFORE FORMATTING: \\n\\n\")\n",
    "print(macro_data[:20]) # see how the data looks now? ugly variable names, but its an annual dataset at least\n",
    "macro_data.columns=pd.MultiIndex.from_tuples([\n",
    "    ('Unemployment','CA'),('Unemployment','MI'),('Unemployment','PA'),\n",
    "    ('HouseIdx','CA'),('HouseIdx','MI'),('HouseIdx','PA'),\n",
    "    ('MedIncome','CA'),('MedIncome','MI'),('MedIncome','PA')\n",
    "    ])\n",
    "print(\"\\n\\n DATA AFTER FORMATTING: \\n\\n\")\n",
    "print(macro_data[:20]) # this is a dataset that is \"wide\", and now \n",
    "                       # the column variable names have 2 levels - var name, \n",
    "                       # and unit/state that variable applies to\n"
   ]
  },
  {
   "cell_type": "markdown",
   "id": "c950bb19-3d2e-40eb-ab82-bc01ae43b8b1",
   "metadata": {},
   "source": [
    "Q6: for each decade and state, report the average annual CHANGE (level, not percent) in unemployment"
   ]
  },
  {
   "cell_type": "markdown",
   "id": "d2215c69-ecde-47da-9202-34f1231d8edb",
   "metadata": {},
   "source": [
    "Q7: for each decade and state, report the average annual PERCENT CHANGE in house prices and household income"
   ]
  }
 ],
 "metadata": {
  "kernelspec": {
   "display_name": "Python 3 (ipykernel)",
   "language": "python",
   "name": "python3"
  },
  "language_info": {
   "codemirror_mode": {
    "name": "ipython",
    "version": 3
   },
   "file_extension": ".py",
   "mimetype": "text/x-python",
   "name": "python",
   "nbconvert_exporter": "python",
   "pygments_lexer": "ipython3",
   "version": "3.11.5"
  }
 },
 "nbformat": 4,
 "nbformat_minor": 5
}
